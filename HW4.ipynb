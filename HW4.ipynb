{
  "nbformat": 4,
  "nbformat_minor": 0,
  "metadata": {
    "colab": {
      "provenance": [],
      "authorship_tag": "ABX9TyMWiK3gnmmu52DkFK1zTLVA",
      "include_colab_link": true
    },
    "kernelspec": {
      "name": "python3",
      "display_name": "Python 3"
    },
    "language_info": {
      "name": "python"
    }
  },
  "cells": [
    {
      "cell_type": "markdown",
      "metadata": {
        "id": "view-in-github",
        "colab_type": "text"
      },
      "source": [
        "<a href=\"https://colab.research.google.com/github/Nannanpeng/Macro-I/blob/main/HW4.ipynb\" target=\"_parent\"><img src=\"https://colab.research.google.com/assets/colab-badge.svg\" alt=\"Open In Colab\"/></a>"
      ]
    },
    {
      "cell_type": "code",
      "execution_count": null,
      "metadata": {
        "id": "1Gb3pR2Paf7S"
      },
      "outputs": [],
      "source": [
        "import numpy as np\n",
        "import matplotlib.pyplot as plt"
      ]
    },
    {
      "cell_type": "code",
      "source": [
        "from google.colab import drive\n",
        "import os\n",
        "\n",
        "drive.mount('/content/drive', force_remount=True)\n",
        "os.chdir(\"/content/drive/My Drive/Macro_I\")"
      ],
      "metadata": {
        "colab": {
          "base_uri": "https://localhost:8080/"
        },
        "id": "uVSVNtxHtY__",
        "outputId": "bebd6fcd-a9ef-45c0-8a99-3d8892c8820a"
      },
      "execution_count": null,
      "outputs": [
        {
          "output_type": "stream",
          "name": "stdout",
          "text": [
            "Mounted at /content/drive\n"
          ]
        }
      ]
    },
    {
      "cell_type": "markdown",
      "source": [
        "# Question 1\n",
        "Finite periods with instantaneous utility function $u(c) = ln(c)$"
      ],
      "metadata": {
        "id": "Ky8l0lYocjaL"
      }
    },
    {
      "cell_type": "code",
      "source": [
        "a_0 = 0\n",
        "T = 150\n",
        "S = T+1 # from 0 to T. So T + 1 periods in total\n",
        "beta = 0.9\n",
        "R = np.full(S, 1.12)\n",
        "grid = 6001\n",
        "amax = 20\n",
        "amin = -5\n",
        "\n",
        "w = np.ones(S)"
      ],
      "metadata": {
        "id": "EF6dXu-5anvL"
      },
      "execution_count": null,
      "outputs": []
    },
    {
      "cell_type": "code",
      "source": [
        "class hhDecision:\n",
        "    def __init__(self, sigma=1):\n",
        "        self.sigma = sigma\n",
        "        \n",
        "    def utility(self, c):\n",
        "        if self.sigma == 1:\n",
        "            u = np.log(c)\n",
        "        else:\n",
        "            u = c**(1 - self.sigma)/(1 - self.sigma)\n",
        "        return u\n",
        "    \n",
        "    def consumption(self, w, R, a_t, a_t_next):\n",
        "        consum = w + R*a_t - a_t_next\n",
        "        return consum\n",
        "\n",
        "class hhDP:\n",
        "    def __init__(self, hhD, eps = 1e-3, a_0_ = a_0, S_ = S, \n",
        "                 beta_ = beta, R_ = R, grid_ = grid, \n",
        "                 amax_ = amax, amin_ = amin, w_ = w,\n",
        "                 maxit = 200):\n",
        "        self.a_0_ = a_0_\n",
        "        self.S_ = S_\n",
        "        self.beta_ = beta_\n",
        "        self.R_ = R_\n",
        "        self.grid_ = grid_\n",
        "        self.amax_ = amax_\n",
        "        self.amin_ = amin_\n",
        "        self.w_ = w_\n",
        "        self.hhD = hhD\n",
        "        self.eps_ = eps\n",
        "        self.maxit_ = maxit\n",
        "        self.iter_count = 0\n",
        "    \n",
        "    def initilization(self):\n",
        "        self.a_grids = np.linspace(self.amin_, self.amax_, self.grid_)\n",
        "        self.P = np.empty((self.grid_, self.S_))\n",
        "        self.V = np.empty_like(self.P)\n",
        "        self.C = np.empty_like(self.P)\n",
        "        self.a_tplus1_grids, self.a_t_grids = np.meshgrid(self.a_grids, self.a_grids)\n",
        "    \n",
        "    def last_period(self, t):\n",
        "        self.C[:, t] =  self.hhD.consumption(self.w_[t], self.R_[t], self.a_grids, 0)\n",
        "        pos_ind = self.C[:, t] > 0\n",
        "        self.V[pos_ind, t] = self.hhD.utility(self.C[:, t][pos_ind])\n",
        "        self.V[~pos_ind, t] = -np.inf\n",
        "        self.P[:, t] = 0\n",
        "\n",
        "    def other_periods(self, t):\n",
        "        consum_mat = self.hhD.consumption(self.w_[t], self.R_[t], self.a_t_grids, self.a_tplus1_grids)\n",
        "        current_u = np.empty_like(consum_mat)\n",
        "        pos_ind = consum_mat > 0\n",
        "        current_u[pos_ind] = self.hhD.utility(consum_mat[pos_ind])\n",
        "        current_u[~pos_ind] = -np.inf\n",
        "        tot_u = current_u + self.beta_*self.V[:, t+1]\n",
        "        self.V[:, t] = np.max(tot_u, axis=1)\n",
        "        self.P[:, t] = self.a_grids[np.argmax(tot_u, axis=1)] \n",
        "        self.C[:, t] = self.hhD.consumption(self.w_[t], self.R_[t], self.a_grids, self.P[:, t])\n",
        "    \n",
        "    def update_finite(self):\n",
        "        self.initilization()\n",
        "        for t in list(range(self.S_))[::-1]:\n",
        "            if t == self.S_ - 1:\n",
        "                self.last_period(t)\n",
        "            else:\n",
        "                self.other_periods(t)\n",
        "    \n",
        "    def update_infinite(self):\n",
        "        self.initilization()\n",
        "        self.last_period(1)\n",
        "        notConverge = True\n",
        "\n",
        "        while notConverge and self.iter_count <= self.maxit_:\n",
        "            self.other_periods(0)\n",
        "            temp = np.abs(self.V[:, 0] - self.V[:, 1])\n",
        "            temp[np.isnan(temp)] = 0\n",
        "            err = np.max(temp)\n",
        "            self.V[:, 1] = self.V[:, 0]\n",
        "            self.iter_count += 1\n",
        "            if err  < self.eps_:\n",
        "                notConverge = False\n",
        "            if self.iter_count % 10 == 0:\n",
        "                print(f\"Error after {self.iter_count} iterations is {err}.\")\n",
        "        if self.iter_count == self.maxit_:\n",
        "            print('Reach maximum iterations.')\n",
        "\n",
        "    def train(self, type_='finite'):\n",
        "        if type_ == 'finite':\n",
        "            self.update_finite()\n",
        "        if type_ == 'infinite':\n",
        "            self.update_infinite()\n",
        "\n",
        "    def find_opt_path_finite(self):\n",
        "        c_path = np.zeros(self.S_)\n",
        "        a_path = np.zeros(self.S_+1)\n",
        "        for t in range(self.S_):\n",
        "            a_path[t+1] = self.P[np.argmin(np.abs(self.a_grids - a_path[t])), t]\n",
        "            c_path[t] = self.C[np.argmin(np.abs(self.a_grids - a_path[t])), t]\n",
        "        return a_path, c_path\n",
        "    \n",
        "    def find_opt_path_infinite(self):\n",
        "        return self.V[:, 0], self.P[:, 0], self.C[:, 0]"
      ],
      "metadata": {
        "id": "t6at3Jk_bcjL"
      },
      "execution_count": null,
      "outputs": []
    },
    {
      "cell_type": "markdown",
      "source": [
        "Finite periods"
      ],
      "metadata": {
        "id": "eWicbjA11gle"
      }
    },
    {
      "cell_type": "code",
      "source": [
        "hhD = hhDecision()\n",
        "Ts = [25, 50, 100, 150]\n",
        "Ss = np.array(Ts) + 1\n",
        "\n",
        "store_consum = []\n",
        "store_assets = []\n",
        "for s in Ss:\n",
        "    dp_finite = hhDP(hhD, S_ = s)\n",
        "    dp_finite.train()\n",
        "    a_best_path, c_best_path = dp_finite.find_opt_path_finite()\n",
        "    store_consum.append(c_best_path)\n",
        "    store_assets.append(a_best_path)"
      ],
      "metadata": {
        "id": "AK5oZktBzjDm"
      },
      "execution_count": null,
      "outputs": []
    },
    {
      "cell_type": "markdown",
      "source": [
        "Infinite periods"
      ],
      "metadata": {
        "id": "NwDGA7Cw1iwW"
      }
    },
    {
      "cell_type": "code",
      "source": [
        "hhD = hhDecision()\n",
        "dp2 = hhDP(hhD)\n",
        "dp2.train('infinite')"
      ],
      "metadata": {
        "id": "ISM8OiUcvfrv",
        "colab": {
          "base_uri": "https://localhost:8080/"
        },
        "outputId": "5688c437-f4d8-468e-9e7e-3e17d8f5787c"
      },
      "execution_count": null,
      "outputs": [
        {
          "output_type": "stream",
          "name": "stderr",
          "text": [
            "/usr/local/lib/python3.7/dist-packages/ipykernel_launcher.py:67: RuntimeWarning: invalid value encountered in subtract\n"
          ]
        },
        {
          "output_type": "stream",
          "name": "stdout",
          "text": [
            "Error after 10 iterations is 1.418558152370295.\n",
            "Error after 20 iterations is 0.08418951673651165.\n",
            "Error after 30 iterations is 0.027570103403096624.\n",
            "Error after 40 iterations is 0.009613100647991146.\n",
            "Error after 50 iterations is 0.003351880938469165.\n",
            "Error after 60 iterations is 0.0011687286170314337.\n"
          ]
        }
      ]
    },
    {
      "cell_type": "code",
      "source": [
        "tot_T = 150\n",
        "consum_infinite = np.zeros(tot_T)\n",
        "asset_infinite = np.zeros(tot_T+1)\n",
        "V, P, C = dp2.find_opt_path_infinite()\n",
        "for t in range(tot_T):\n",
        "    asset_infinite[t+1] = P[np.argmin(np.abs(dp2.a_grids - asset_infinite[t]))]\n",
        "    consum_infinite[t] = C[np.argmin(np.abs(dp2.a_grids - asset_infinite[t]))]\n",
        "\n",
        "store_consum.append(consum_infinite)\n",
        "store_assets.append(asset_infinite)"
      ],
      "metadata": {
        "id": "UhegGKCAsLF3"
      },
      "execution_count": null,
      "outputs": []
    },
    {
      "cell_type": "code",
      "source": [
        "fig, axes = plt.subplots(1, 2, figsize=(14, 5))\n",
        "consum_save_paths = [ store_consum, store_assets]\n",
        "ytitles = ['Consumption', 'Asset']\n",
        "labels = Ts + ['$\\infty$']\n",
        "for ax, consum_save, ytitle in zip(axes, consum_save_paths, ytitles):\n",
        "    for path, label in zip(consum_save, labels):\n",
        "        ax.plot(path, label=f\"T = {label}\")\n",
        "    ax.grid()\n",
        "    ax.legend()\n",
        "    ax.set(xlabel='Period (t)', ylabel=ytitle)\n",
        "#axes[0].set_ylim([0, 1])\n",
        "\n",
        "fig.savefig('HW4_Q1.png', dpi=300)"
      ],
      "metadata": {
        "colab": {
          "base_uri": "https://localhost:8080/",
          "height": 334
        },
        "id": "l_5tO2S7voDG",
        "outputId": "b0566005-1402-4153-c84a-e8b4147acbdf"
      },
      "execution_count": null,
      "outputs": [
        {
          "output_type": "display_data",
          "data": {
            "text/plain": [
              "<Figure size 1008x360 with 2 Axes>"
            ],
            "image/png": "[encoded data removed]"
          },
          "metadata": {
            "needs_background": "light"
          }
        }
      ]
    },
    {
      "cell_type": "markdown",
      "source": [
        "# Question 2"
      ],
      "metadata": {
        "id": "kHwcril5KNEh"
      }
    },
    {
      "cell_type": "code",
      "source": [
        "t = 101\n",
        "q_path = 1/np.cumprod(R[:t])\n",
        "a_path = asset_infinite[:t]\n",
        "qa_path = q_path*asset_infinite[1:(t+1)]"
      ],
      "metadata": {
        "id": "w0nbSDs8rldl"
      },
      "execution_count": null,
      "outputs": []
    },
    {
      "cell_type": "code",
      "source": [
        "fig, axes = plt.subplots(1, 3, figsize=(18, 5))\n",
        "paths = [q_path, a_path, qa_path]\n",
        "labels = ['Without retirement income', 'With tax and retirement income']\n",
        "ytitles = ['Bond price (q)', 'Asset (a)', 'Bond price * Asset (q*a)']\n",
        "for ax, path, ytitle in zip(axes, paths, ytitles):\n",
        "    ax.plot(path)\n",
        "    ax.grid()\n",
        "    ax.set(xlabel='Period (t)', ylabel=ytitle)\n",
        "#axes[0].set_ylim([0, 1])\n",
        "\n",
        "fig.savefig('HW4_Q2.png', dpi=300)"
      ],
      "metadata": {
        "colab": {
          "base_uri": "https://localhost:8080/",
          "height": 334
        },
        "id": "bir_-2L4r6vi",
        "outputId": "225db638-3a61-4dd3-9777-8f7e4d38e70b"
      },
      "execution_count": null,
      "outputs": [
        {
          "output_type": "display_data",
          "data": {
            "text/plain": [
              "<Figure size 1296x360 with 3 Axes>"
            ],
            "image/png": "[encoded data removed]"
          },
          "metadata": {
            "needs_background": "light"
          }
        }
      ]
    },
    {
      "cell_type": "markdown",
      "source": [
        "# Question 3"
      ],
      "metadata": {
        "id": "s7c5duAmRPy-"
      }
    },
    {
      "cell_type": "code",
      "source": [
        "hhD = hhDecision(sigma=6)\n",
        "dp3 = hhDP(hhD)\n",
        "dp3.train('infinite')"
      ],
      "metadata": {
        "id": "JoKsPvLesoT1",
        "colab": {
          "base_uri": "https://localhost:8080/"
        },
        "outputId": "d1b03a2f-d115-43af-ac63-2a34c840c6ed"
      },
      "execution_count": null,
      "outputs": [
        {
          "output_type": "stream",
          "name": "stderr",
          "text": [
            "/usr/local/lib/python3.7/dist-packages/ipykernel_launcher.py:73: RuntimeWarning: invalid value encountered in subtract\n"
          ]
        },
        {
          "output_type": "stream",
          "name": "stdout",
          "text": [
            "Error after 10 iterations is 50695.069161162726.\n",
            "Error after 20 iterations is 45.82151664722818.\n",
            "Error after 30 iterations is 6.183408825233869.\n",
            "Error after 40 iterations is 1.5531724248002376.\n",
            "Error after 50 iterations is 0.4546384056012016.\n",
            "Error after 60 iterations is 0.1450215560726349.\n",
            "Error after 70 iterations is 0.04627102263614802.\n",
            "Error after 80 iterations is 0.014779784337150659.\n",
            "Error after 90 iterations is 0.004724062991385836.\n",
            "Error after 100 iterations is 0.0015105713367233875.\n"
          ]
        }
      ]
    },
    {
      "cell_type": "code",
      "source": [
        "tot_T = 41\n",
        "consum_infinite_2 = np.zeros(tot_T)\n",
        "asset_infinite_2 = np.zeros(tot_T+1)\n",
        "V, P, C = dp3.find_opt_path_infinite()\n",
        "for t in range(tot_T):\n",
        "    asset_infinite_2[t+1] = P[np.argmin(np.abs(dp3.a_grids - asset_infinite_2[t]))]\n",
        "    consum_infinite_2[t] = C[np.argmin(np.abs(dp3.a_grids - asset_infinite_2[t]))]"
      ],
      "metadata": {
        "id": "pC_fEh5R8tlK"
      },
      "execution_count": null,
      "outputs": []
    },
    {
      "cell_type": "code",
      "source": [
        "fig, axes = plt.subplots(1, 2, figsize=(14, 5))\n",
        "consum_save_paths = [ [consum_infinite[:41], consum_infinite_2],  \n",
        "                      [asset_infinite[:41], asset_infinite_2[:-1]] ]\n",
        "labels = ['$\\sigma$ = 1', '$\\sigma$ = 6']\n",
        "ytitles = ['Consumption', 'Asset']\n",
        "for ax, consum_save, ytitle in zip(axes, consum_save_paths, ytitles):\n",
        "    for path, label in zip(consum_save, labels):\n",
        "        ax.plot(path, label=label)\n",
        "    ax.grid()\n",
        "    ax.legend()\n",
        "    ax.set(xlabel='Period (t)', ylabel=ytitle)\n",
        "axes[0].set_ylim([0.5, 1.8]);\n",
        "\n",
        "fig.savefig('HW4_Q3.png', dpi=300)"
      ],
      "metadata": {
        "id": "qk1KZrrJIFgc",
        "colab": {
          "base_uri": "https://localhost:8080/",
          "height": 338
        },
        "outputId": "70decbcd-04ea-49b3-cd14-f9342fad7f5e"
      },
      "execution_count": null,
      "outputs": [
        {
          "output_type": "display_data",
          "data": {
            "text/plain": [
              "<Figure size 1008x360 with 2 Axes>"
            ],
            "image/png": "[encoded data removed]"
          },
          "metadata": {
            "needs_background": "light"
          }
        }
      ]
    },
    {
      "cell_type": "code",
      "source": [
        "import numpy as np\n",
        "\n",
        "x = 2\n",
        "\n",
        "1 - x/np.sqrt(3)"
      ],
      "metadata": {
        "colab": {
          "base_uri": "https://localhost:8080/"
        },
        "id": "qHzRibSvl5Xy",
        "outputId": "a664f842-bade-47ef-bc2b-2e4c0b8a60b9"
      },
      "execution_count": null,
      "outputs": [
        {
          "output_type": "execute_result",
          "data": {
            "text/plain": [
              "-0.15470053837925168"
            ]
          },
          "metadata": {},
          "execution_count": 13
        }
      ]
    },
    {
      "cell_type": "code",
      "source": [
        "2/3 - x/(2*np.sqrt(3))"
      ],
      "metadata": {
        "colab": {
          "base_uri": "https://localhost:8080/"
        },
        "id": "ereUF1fNmAZk",
        "outputId": "a8432491-9b0d-4812-9379-aebb55ea836d"
      },
      "execution_count": null,
      "outputs": [
        {
          "output_type": "execute_result",
          "data": {
            "text/plain": [
              "0.08931639747704079"
            ]
          },
          "metadata": {},
          "execution_count": 14
        }
      ]
    },
    {
      "cell_type": "code",
      "source": [
        "4/np.sqrt(3)"
      ],
      "metadata": {
        "colab": {
          "base_uri": "https://localhost:8080/"
        },
        "id": "3euKefAhmCSu",
        "outputId": "2fb0bafb-e1f6-46a8-841d-3af0a40a635f"
      },
      "execution_count": null,
      "outputs": [
        {
          "output_type": "execute_result",
          "data": {
            "text/plain": [
              "2.3094010767585034"
            ]
          },
          "metadata": {},
          "execution_count": 9
        }
      ]
    },
    {
      "cell_type": "code",
      "source": [
        "np.sqrt(3)"
      ],
      "metadata": {
        "colab": {
          "base_uri": "https://localhost:8080/"
        },
        "id": "eUcE7qOVm19_",
        "outputId": "9b68489c-be4d-4302-93e4-bd459efa91a1"
      },
      "execution_count": null,
      "outputs": [
        {
          "output_type": "execute_result",
          "data": {
            "text/plain": [
              "1.7320508075688772"
            ]
          },
          "metadata": {},
          "execution_count": 10
        }
      ]
    },
    {
      "cell_type": "code",
      "source": [
        "1/3"
      ],
      "metadata": {
        "id": "8TkGBNGLnTnE",
        "colab": {
          "base_uri": "https://localhost:8080/"
        },
        "outputId": "927566b1-2b88-460e-8417-98f54e95765e"
      },
      "execution_count": null,
      "outputs": [
        {
          "output_type": "execute_result",
          "data": {
            "text/plain": [
              "0.3333333333333333"
            ]
          },
          "metadata": {},
          "execution_count": 8
        }
      ]
    },
    {
      "cell_type": "code",
      "source": [],
      "metadata": {
        "id": "Rgh3aN_NSg_5"
      },
      "execution_count": null,
      "outputs": []
    }
  ]
}