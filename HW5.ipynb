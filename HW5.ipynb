{
  "nbformat": 4,
  "nbformat_minor": 0,
  "metadata": {
    "colab": {
      "provenance": [],
      "authorship_tag": "ABX9TyM4ssi/4h/uZgvsMkb+o0a0",
      "include_colab_link": true
    },
    "kernelspec": {
      "name": "python3",
      "display_name": "Python 3"
    },
    "language_info": {
      "name": "python"
    }
  },
  "cells": [
    {
      "cell_type": "markdown",
      "metadata": {
        "id": "view-in-github",
        "colab_type": "text"
      },
      "source": [
        "<a href=\"https://colab.research.google.com/github/Nannanpeng/Macro-I/blob/main/HW5.ipynb\" target=\"_parent\"><img src=\"https://colab.research.google.com/assets/colab-badge.svg\" alt=\"Open In Colab\"/></a>"
      ]
    },
    {
      "cell_type": "code",
      "execution_count": 3,
      "metadata": {
        "id": "1Gb3pR2Paf7S"
      },
      "outputs": [],
      "source": [
        "import numpy as np\n",
        "import matplotlib.pyplot as plt"
      ]
    },
    {
      "cell_type": "code",
      "source": [
        "from google.colab import drive\n",
        "import os\n",
        "\n",
        "# Below sets up the directory to save the results. use '#' to comment and run.  \n",
        "drive.mount('/content/drive', force_remount=True)\n",
        "os.chdir(\"/content/drive/My Drive/Macro_I\")"
      ],
      "metadata": {
        "colab": {
          "base_uri": "https://localhost:8080/"
        },
        "id": "uVSVNtxHtY__",
        "outputId": "9f700b8d-4b61-410c-db12-ece6611849ae"
      },
      "execution_count": 4,
      "outputs": [
        {
          "output_type": "stream",
          "name": "stdout",
          "text": [
            "Mounted at /content/drive\n"
          ]
        }
      ]
    },
    {
      "cell_type": "markdown",
      "source": [
        "# Question 1"
      ],
      "metadata": {
        "id": "Ky8l0lYocjaL"
      }
    },
    {
      "cell_type": "code",
      "source": [
        "k0 = 0.1\n",
        "T = 40\n",
        "\n",
        "A = 2.0\n",
        "alpha = 0.5\n",
        "delta = 0.5\n",
        "\n",
        "sigma = 0.5\n",
        "beta = 0.9\n",
        "\n",
        "c0_max = 0.3\n",
        "c0_min = 0"
      ],
      "metadata": {
        "id": "EF6dXu-5anvL"
      },
      "execution_count": 5,
      "outputs": []
    },
    {
      "cell_type": "code",
      "source": [
        "class binary_search_GE:\n",
        "    def __init__(self, k_0 = k0, beta_ = beta, A_ = A, alpha_ = alpha,\n",
        "                 delta_ = delta, sigma_ = sigma):\n",
        "        self.k_0 = k_0\n",
        "        self.beta_ = beta_\n",
        "        self.A_ = A_\n",
        "        self.alpha_ = alpha_\n",
        "        self.delta_ = delta_\n",
        "        self.sigma_ = sigma_\n",
        "\n",
        "    def compute_equilibrium(self):\n",
        "        k_star = ((1/self.beta_ - 1 + self.delta_)/(self.alpha_*self.A_))**(1/(self.alpha_ - 1))\n",
        "        c_star = self.A_*k_star**self.alpha_ - self.delta_*k_star\n",
        "        return c_star, k_star\n",
        "\n",
        "    def compute_consumption_capital(self, c_0, n_iter):\n",
        "        store_k = np.zeros(n_iter)\n",
        "        store_c = np.zeros_like(store_k)\n",
        "\n",
        "        store_k[0] = self.k_0   \n",
        "        store_c[0] = c_0\n",
        "        for i in range(1, n_iter):\n",
        "            store_k[i] = self.A_*store_k[i-1]**self.alpha_ + (1 - self.delta_)*store_k[i-1] - store_c[i-1]\n",
        "            if store_k[i] < 0 :\n",
        "                store_k[i] = 0\n",
        "                break\n",
        "            store_c[i] = ( self.beta_*(1 + self.alpha_*self.A_*store_k[i]**(self.alpha_-1) - self.delta_) )**(1/self.sigma_)*store_c[i-1]\n",
        "        return store_c, store_k \n",
        "\n",
        "    # using binary search to find the path of stable arm \n",
        "    def find_consumption_capital_path(self, n_iter = 1000, err=1e-5, period = T, cmin = c0_min, cmax = c0_max):\n",
        "        eps = 1\n",
        "        iter_count = 0\n",
        "        _, kstar_ = self.compute_equilibrium()\n",
        "\n",
        "        while eps > err and iter_count <= n_iter:\n",
        "            c0 = (cmin + cmax)/2\n",
        "            c_path, k_path = self.compute_consumption_capital(c0, period)\n",
        "            eps = np.abs(k_path[-1] - kstar_)\n",
        "            if k_path[-1] >= kstar_:\n",
        "                cmin = c0\n",
        "            else:\n",
        "                cmax = c0\n",
        "            iter_count += 1\n",
        "            if iter_count % 20 == 0 or eps < err:\n",
        "                print(f'Error is {eps:f} after {iter_count} iterations.')\n",
        "        if iter_count > n_iter:\n",
        "            print('Reach maximum num. of iterations.')\n",
        "        return c_path, k_path"
      ],
      "metadata": {
        "id": "t6at3Jk_bcjL"
      },
      "execution_count": 6,
      "outputs": []
    },
    {
      "cell_type": "markdown",
      "source": [
        "Equilibrium"
      ],
      "metadata": {
        "id": "RagsYAQXVfAj"
      }
    },
    {
      "cell_type": "code",
      "source": [
        "%precision 4\n",
        "bsGE = binary_search_GE()\n",
        "c_star, k_star = bsGE.compute_equilibrium()\n",
        "c_star, k_star"
      ],
      "metadata": {
        "colab": {
          "base_uri": "https://localhost:8080/"
        },
        "id": "vduPeS9Y_FWG",
        "outputId": "cad04005-be45-4fff-c8bc-e9c77888001d"
      },
      "execution_count": 7,
      "outputs": [
        {
          "output_type": "execute_result",
          "data": {
            "text/plain": [
              "(1.9339, 2.6777)"
            ]
          },
          "metadata": {},
          "execution_count": 7
        }
      ]
    },
    {
      "cell_type": "markdown",
      "source": [
        "Find the stable arm when $k_0 = 0.1$"
      ],
      "metadata": {
        "id": "K37yBPwSmUYg"
      }
    },
    {
      "cell_type": "code",
      "source": [
        "c_path_1, k_path_1 = bsGE.find_consumption_capital_path()"
      ],
      "metadata": {
        "id": "cwcfOglMbdLq",
        "colab": {
          "base_uri": "https://localhost:8080/"
        },
        "outputId": "bd808aba-1f33-433e-fdc2-a44b2fff99a6"
      },
      "execution_count": 8,
      "outputs": [
        {
          "output_type": "stream",
          "name": "stdout",
          "text": [
            "Error is 13.124985 after 20 iterations.\n",
            "Error is 0.002767 after 40 iterations.\n",
            "Error is 0.000001 after 50 iterations.\n"
          ]
        }
      ]
    },
    {
      "cell_type": "markdown",
      "source": [
        "Consumption and aseet holings in the first 20 periods"
      ],
      "metadata": {
        "id": "n3iuxQF6V-f6"
      }
    },
    {
      "cell_type": "code",
      "source": [
        "max_T = 20\n",
        "cs = c_path_1[0]\n",
        "c_sa_path, k_sa_path = bsGE.compute_consumption_capital(cs, n_iter=max_T)\n",
        "print(f'The initial consumption is {cs:f} when k0 is {k0}.')"
      ],
      "metadata": {
        "id": "E0JzHT-smgkg",
        "colab": {
          "base_uri": "https://localhost:8080/"
        },
        "outputId": "7658d0b8-ad21-4886-86c5-5e9d62afe8d5"
      },
      "execution_count": 9,
      "outputs": [
        {
          "output_type": "stream",
          "name": "stdout",
          "text": [
            "The initial consumption is 0.190725 when k0 is 0.1.\n"
          ]
        }
      ]
    },
    {
      "cell_type": "code",
      "source": [
        "fig, axes = plt.subplots(1, 2, figsize=(14, 5))\n",
        "consum_capital_paths = [ c_sa_path, k_sa_path]\n",
        "ytitles = ['Consumption ($c_t$)', 'Capital ($k_t$)']\n",
        "for ax, path, ytitle in zip(axes, consum_capital_paths, ytitles):\n",
        "    ax.plot(path)\n",
        "    ax.grid()\n",
        "    ax.set_xticks(np.arange(0, max_T, 2))\n",
        "    ax.set(xlabel='Period (t)', ylabel=ytitle)\n",
        "\n",
        "fig.savefig('HW5_Q1.png', dpi=300)"
      ],
      "metadata": {
        "colab": {
          "base_uri": "https://localhost:8080/",
          "height": 335
        },
        "id": "rq6WIMEkXr47",
        "outputId": "5a898a5c-4bbc-41d0-dd5b-e0e4cf8a216b"
      },
      "execution_count": 10,
      "outputs": [
        {
          "output_type": "display_data",
          "data": {
            "text/plain": [
              "<Figure size 1008x360 with 2 Axes>"
            ],
            "image/png": "[encoded data removed]"
          },
          "metadata": {
            "needs_background": "light"
          }
        }
      ]
    },
    {
      "cell_type": "markdown",
      "source": [
        "# Question 2"
      ],
      "metadata": {
        "id": "dIe-C-MN_tH6"
      }
    },
    {
      "cell_type": "markdown",
      "source": [
        "### part c:"
      ],
      "metadata": {
        "id": "N5rxFBDyFTRR"
      }
    },
    {
      "cell_type": "code",
      "source": [
        "%precision 4\n",
        "A_new = 1.5\n",
        "bsGE_new = binary_search_GE(k_0 = k_star, A_ = A_new)\n",
        "c_star_new, k_star_new = bsGE_new.compute_equilibrium()\n",
        "c_star_new, k_star_new"
      ],
      "metadata": {
        "colab": {
          "base_uri": "https://localhost:8080/"
        },
        "id": "wy50yckE5pgd",
        "outputId": "2e8b30c4-affa-42df-db77-b77cc6031c94"
      },
      "execution_count": 11,
      "outputs": [
        {
          "output_type": "execute_result",
          "data": {
            "text/plain": [
              "(1.0878, 1.5062)"
            ]
          },
          "metadata": {},
          "execution_count": 11
        }
      ]
    },
    {
      "cell_type": "code",
      "source": [
        "cmax_new = c_star_new*3\n",
        "c_path_2, k_path_2 = bsGE_new.find_consumption_capital_path(cmax=cmax_new)"
      ],
      "metadata": {
        "colab": {
          "base_uri": "https://localhost:8080/"
        },
        "id": "YK7rF0FuCL9N",
        "outputId": "a352aab7-594d-4d06-c471-67ad2a47ca21"
      },
      "execution_count": 12,
      "outputs": [
        {
          "output_type": "stream",
          "name": "stdout",
          "text": [
            "Error is 7.390835 after 20 iterations.\n",
            "Error is 0.165586 after 40 iterations.\n",
            "Error is 0.000008 after 51 iterations.\n"
          ]
        }
      ]
    },
    {
      "cell_type": "code",
      "source": [
        "max_T = 20\n",
        "cs = c_path_2[0]\n",
        "c_sa_path, k_sa_path = bsGE_new.compute_consumption_capital(cs, n_iter=max_T)\n",
        "print(f'The initial consumption is {cs:f} when k0 is {k0}.')\n",
        "print(f'The consumption in old equilibrium is {c_star:f} when k0 is {k0}.')"
      ],
      "metadata": {
        "colab": {
          "base_uri": "https://localhost:8080/"
        },
        "id": "01eirWAVCr71",
        "outputId": "7b30ada0-da0b-4e2e-96c7-330c333b1b59"
      },
      "execution_count": 13,
      "outputs": [
        {
          "output_type": "stream",
          "name": "stdout",
          "text": [
            "The initial consumption is 1.678578 when k0 is 0.1.\n",
            "The consumption in old equilibrium is 1.933884 when k0 is 0.1.\n"
          ]
        }
      ]
    },
    {
      "cell_type": "code",
      "source": [
        "fig, axes = plt.subplots(1, 2, figsize=(14, 5))\n",
        "consum_capital_paths = [ c_sa_path, k_sa_path]\n",
        "ytitles = ['Consumption ($c_t$)', 'Capital ($k_t$)']\n",
        "for ax, path, ytitle in zip(axes, consum_capital_paths, ytitles):\n",
        "    ax.plot(path)\n",
        "    ax.grid()\n",
        "    ax.set_xticks(np.arange(0, max_T, 2))\n",
        "    ax.set(xlabel='Period (t)', ylabel=ytitle)\n",
        "\n",
        "fig.savefig('HW5_Q2_c.png', dpi=300)"
      ],
      "metadata": {
        "colab": {
          "base_uri": "https://localhost:8080/",
          "height": 334
        },
        "id": "lLd05v0uC3EW",
        "outputId": "9c347552-fd40-45d2-a208-abe129aff808"
      },
      "execution_count": 14,
      "outputs": [
        {
          "output_type": "display_data",
          "data": {
            "text/plain": [
              "<Figure size 1008x360 with 2 Axes>"
            ],
            "image/png": "[encoded data removed]"
          },
          "metadata": {
            "needs_background": "light"
          }
        }
      ]
    },
    {
      "cell_type": "markdown",
      "source": [
        "### part d:"
      ],
      "metadata": {
        "id": "6RfRX7G_FW5A"
      }
    },
    {
      "cell_type": "code",
      "source": [
        "sigma_new = 0.1\n",
        "bsGE_new = binary_search_GE(k_0 = k_star, sigma_ = sigma_new)\n",
        "c_star_new, k_star_new = bsGE_new.compute_equilibrium()\n",
        "c_star_new, k_star_new"
      ],
      "metadata": {
        "colab": {
          "base_uri": "https://localhost:8080/"
        },
        "id": "ClbLqSoKC8Lm",
        "outputId": "eefa8a20-c8e2-4c73-c383-25ecede6a248"
      },
      "execution_count": 15,
      "outputs": [
        {
          "output_type": "execute_result",
          "data": {
            "text/plain": [
              "(1.9339, 2.6777)"
            ]
          },
          "metadata": {},
          "execution_count": 15
        }
      ]
    },
    {
      "cell_type": "code",
      "source": [
        "c_path_3, k_path_3 = bsGE_new.find_consumption_capital_path(cmax = c_star_new)"
      ],
      "metadata": {
        "colab": {
          "base_uri": "https://localhost:8080/"
        },
        "id": "emP5j4YGFlL_",
        "outputId": "49f469bb-05a3-4831-fe23-3cf09dbd63ec"
      },
      "execution_count": 16,
      "outputs": [
        {
          "output_type": "stream",
          "name": "stdout",
          "text": [
            "Error is 13.315743 after 20 iterations.\n",
            "Error is 13.192709 after 40 iterations.\n",
            "Error is 0.000000 after 51 iterations.\n"
          ]
        }
      ]
    },
    {
      "cell_type": "code",
      "source": [
        "max_T = 20\n",
        "cs = c_path_3[0]\n",
        "c_sa_path, k_sa_path = bsGE_new.compute_consumption_capital(cs, n_iter=max_T)\n",
        "print(f'The initial consumption is {cs:f} when k0 is {k0}.')\n",
        "#print(f'The consumption in old equilibrium is {c_star:f} when k0 is {k0}.')"
      ],
      "metadata": {
        "colab": {
          "base_uri": "https://localhost:8080/"
        },
        "id": "8Ld8qSFsGQtw",
        "outputId": "fd95bfa8-befc-4b30-fc9c-4095cb240bd5"
      },
      "execution_count": 17,
      "outputs": [
        {
          "output_type": "stream",
          "name": "stdout",
          "text": [
            "The initial consumption is 1.933884 when k0 is 0.1.\n"
          ]
        }
      ]
    },
    {
      "cell_type": "code",
      "source": [
        "fig, axes = plt.subplots(1, 2, figsize=(14, 5))\n",
        "consum_capital_paths = [ c_sa_path, k_sa_path]\n",
        "ytitles = ['Consumption ($c_t$)', 'Capital ($k_t$)']\n",
        "for ax, path, ytitle in zip(axes, consum_capital_paths, ytitles):\n",
        "    ax.plot(path)\n",
        "    ax.grid()\n",
        "    ax.set_xticks(np.arange(0, max_T, 2))\n",
        "    ax.set(xlabel='Period (t)', ylabel=ytitle)\n",
        "\n",
        "fig.savefig('HW5_Q2_d.png', dpi=300)"
      ],
      "metadata": {
        "colab": {
          "base_uri": "https://localhost:8080/",
          "height": 334
        },
        "id": "CjLNkOg4GAjc",
        "outputId": "390350bb-1dc2-42a1-d97e-f546e72688e0"
      },
      "execution_count": 18,
      "outputs": [
        {
          "output_type": "display_data",
          "data": {
            "text/plain": [
              "<Figure size 1008x360 with 2 Axes>"
            ],
            "image/png": "[encoded data removed]"
          },
          "metadata": {
            "needs_background": "light"
          }
        }
      ]
    },
    {
      "cell_type": "code",
      "source": [],
      "metadata": {
        "id": "iW1njVYDGYe1"
      },
      "execution_count": 18,
      "outputs": []
    }
  ]
}